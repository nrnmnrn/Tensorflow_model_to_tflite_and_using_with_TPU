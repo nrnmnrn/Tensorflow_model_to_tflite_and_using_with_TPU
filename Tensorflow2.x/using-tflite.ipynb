{
 "cells": [
  {
   "cell_type": "markdown",
   "metadata": {},
   "source": [
    "可以用的程式碼在第一格，其他為測試用"
   ]
  },
  {
   "cell_type": "code",
   "execution_count": 6,
   "metadata": {},
   "outputs": [
    {
     "name": "stdout",
     "output_type": "stream",
     "text": [
      "Predictions: [[0.859089]]\n"
     ]
    }
   ],
   "source": [
    "import tensorflow as tf\n",
    "import numpy as np\n",
    "import tflite_runtime.interpreter as tflite\n",
    "import platform\n",
    "\n",
    "EDGETPU_SHARED_LIB = {'Linux': 'libedgetpu.so.1' ,\n",
    "                      'Darwin': 'libedgetpu.1.dylib',\n",
    "                      'Windows': 'edgetpu.dll'}[platform.system()]\n",
    "\n",
    "def make_interpreter(model_file):\n",
    "    model_file , *device = model_file.split('@')\n",
    "    return tflite.Interpreter(model_path = model_file ,\n",
    "                              experimental_delegates = [tflite.load_delegate(EDGETPU_SHARED_LIB ,\n",
    "                                                                             {'device': device[0]} if device else {})])\n",
    "tflite_model_path = \"./final-model.tflite\"\n",
    "interpreter = make_interpreter(tflite_model_path)\n",
    "interpreter.allocate_tensors()\n",
    "\n",
    "input_details = interpreter.get_input_details()\n",
    "output_details = interpreter.get_output_details()\n",
    "\n",
    "input_data = np.array([[1, 1]], dtype=np.float32)\n",
    "interpreter.set_tensor(input_details[0]['index'], input_data)\n",
    "\n",
    "interpreter.invoke()\n",
    "\n",
    "output_data = interpreter.get_tensor(output_details[0]['index'])\n",
    "print(\"Predictions:\", output_data)\n"
   ]
  }
 ],
 "metadata": {
  "kernelspec": {
   "display_name": "tf1.x",
   "language": "python",
   "name": "python3"
  },
  "language_info": {
   "codemirror_mode": {
    "name": "ipython",
    "version": 3
   },
   "file_extension": ".py",
   "mimetype": "text/x-python",
   "name": "python",
   "nbconvert_exporter": "python",
   "pygments_lexer": "ipython3",
   "version": "3.8.5"
  },
  "orig_nbformat": 4
 },
 "nbformat": 4,
 "nbformat_minor": 2
}
